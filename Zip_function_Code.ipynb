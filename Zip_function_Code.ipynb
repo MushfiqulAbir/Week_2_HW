{
 "cells": [
  {
   "cell_type": "code",
   "execution_count": 4,
   "id": "35dc6c30",
   "metadata": {},
   "outputs": [
    {
     "name": "stdout",
     "output_type": "stream",
     "text": [
      "(('even', 30), ('Odd', 35), ('Even', 40), ('Odd', 45))\n"
     ]
    }
   ],
   "source": [
    "description = (\"even\",\"Odd\",\"Even\",\"Odd\")\n",
    "value = (30,35,40,45)\n",
    "\n",
    "pair = zip(description, value)\n",
    "\n",
    "print(tuple(pair))\n"
   ]
  },
  {
   "cell_type": "code",
   "execution_count": null,
   "id": "b52d8d26",
   "metadata": {},
   "outputs": [],
   "source": []
  }
 ],
 "metadata": {
  "kernelspec": {
   "display_name": "Python 3 (ipykernel)",
   "language": "python",
   "name": "python3"
  },
  "language_info": {
   "codemirror_mode": {
    "name": "ipython",
    "version": 3
   },
   "file_extension": ".py",
   "mimetype": "text/x-python",
   "name": "python",
   "nbconvert_exporter": "python",
   "pygments_lexer": "ipython3",
   "version": "3.8.12"
  }
 },
 "nbformat": 4,
 "nbformat_minor": 5
}
